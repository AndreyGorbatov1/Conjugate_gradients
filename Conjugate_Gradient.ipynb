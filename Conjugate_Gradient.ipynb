{
 "cells": [
  {
   "cell_type": "markdown",
   "metadata": {},
   "source": [
    "Suppose we want to solve the system of linear equations\n",
    "\n",
    "$${\\displaystyle \\mathbf {A} \\mathbf {x} =\\mathbf {b} }$$\n",
    "for the vector $x$, where the known $n × n$ matrix $A$ is symmetric (i.e., $A^T = A$), positive-definite (i.e. $xTAx > 0$ for all non-zero vectors $x$ in $R^n$), and real, and $b$ is known as well. We denote the unique solution of this system by $x$."
   ]
  },
  {
   "cell_type": "code",
   "execution_count": 1,
   "metadata": {},
   "outputs": [],
   "source": [
    "import numpy as np\n",
    "from scipy.sparse.linalg import cg\n",
    "\n",
    "from sklearn.datasets import make_sparse_spd_matrix as mspdm\n",
    "#from scipy.sparse.linalg import spsolve\n",
    "from numpy.linalg import solve, norm\n",
    "#import scipy.stats as stats\n",
    "#import scipy.sparse as sparse\n",
    "\n",
    "import matplotlib.pyplot as plt\n",
    "#from mpl_toolkits.mplot3d import Axes3D\n",
    "\n",
    "np.random.seed(210)"
   ]
  },
  {
   "cell_type": "markdown",
   "metadata": {},
   "source": [
    "Here i use __make_sparse_spd_matrix__ function from __sklearn.datasets__ in order to generate  $n × n$ matrix $A$ which must be _sparse symmetric positive-definite and real_. "
   ]
  },
  {
   "cell_type": "code",
   "execution_count": 2,
   "metadata": {},
   "outputs": [],
   "source": [
    "# def sprandsym(n, density):\n",
    "#     rvs = stats.norm().rvs\n",
    "#     X = sparse.random(n, n, density=density, data_rvs=rvs)\n",
    "#     upper_X = sparse.triu(X) \n",
    "#     result = upper_X + upper_X.T - sparse.diags(X.diagonal())\n",
    "#     return result\n",
    "\n",
    "# A = sprandsym(size, 0.01)\n",
    "# #print(repr(A))\n",
    "# # <5000x5000 sparse matrix of type '<class 'numpy.float64'>'\n",
    "# #   with 249909 stored elements in Compressed Sparse Row format>\n",
    "\n",
    "# A = A.toarray()\n",
    "# #A\n",
    "\n",
    "def gen_matrix(size):\n",
    "    A = mspdm(size, 0.99)\n",
    "    return(A)"
   ]
  },
  {
   "cell_type": "code",
   "execution_count": 3,
   "metadata": {},
   "outputs": [],
   "source": [
    "#checking if matrix A satisfy all requirements\n",
    "def check_matrix(A):\n",
    "    #Check A for being Positive Definite\n",
    "    np.linalg.cholesky(A)\n",
    "\n",
    "    # # check that the matrix A is symmetric. The difference should have no non-zero elements\n",
    "    #A = A.toarray()\n",
    "    #assert (A - A.T).nnz == 0"
   ]
  },
  {
   "cell_type": "markdown",
   "metadata": {},
   "source": [
    "Here i generate vectors $x$ and $b$."
   ]
  },
  {
   "cell_type": "code",
   "execution_count": 4,
   "metadata": {},
   "outputs": [],
   "source": [
    "#generating x and b vectors\n",
    "def gen_xb(size):\n",
    "    b = np.random.rand(size,1)\n",
    "    #np.dtype(b) #why error?\n",
    "    x = (np.zeros(size)+1.0).reshape(-1, 1)\n",
    "    return x, b"
   ]
  },
  {
   "cell_type": "markdown",
   "metadata": {},
   "source": [
    "Here i generate a Jacobi preconditioner $n × n$ matrix $M$: $M =$ diag$(A)$."
   ]
  },
  {
   "cell_type": "code",
   "execution_count": 5,
   "metadata": {},
   "outputs": [],
   "source": [
    "#generating Jacobi preconditioner\n",
    "def gen_precond(A, size):\n",
    "    M = (np.zeros(size*size)).reshape(-1, size)\n",
    "    i = 0\n",
    "    j = 0\n",
    "    while i < size:\n",
    "        while j < size:\n",
    "            if(j==i):\n",
    "                M[i][j]=A[i][j]\n",
    "            j=j+1\n",
    "        i=i+1\n",
    "        j=0\n",
    "    return(M)"
   ]
  },
  {
   "cell_type": "markdown",
   "metadata": {},
   "source": [
    "Simple examples:"
   ]
  },
  {
   "cell_type": "markdown",
   "metadata": {},
   "source": [
    "From Wiki article about Conjugate Gradient method https://en.wikipedia.org/wiki/Conjugate_gradient_method"
   ]
  },
  {
   "cell_type": "code",
   "execution_count": 6,
   "metadata": {},
   "outputs": [],
   "source": [
    "#From Wiki\n",
    "A_e1 = np.array([[4,1],[1,3]])\n",
    "b_e1 = np.array([1,2]).reshape(-1, 1)\n",
    "x_e1 = np.array([2,1]).reshape(-1, 1)\n",
    "\n",
    "#%timeit cg(A_e1,b_e1)\n",
    "#print(cg(A_e1,b_e1)[0]) #correct answer\n",
    "#[0.09090909 0.63636364]"
   ]
  },
  {
   "cell_type": "markdown",
   "metadata": {},
   "source": [
    "From Амосов А.А., Дубинский Ю.А., Копченова Н.В. Вычислительные методы для инженеров. http://pnu.edu.ru/media/filer_public/2013/04/10/6-1_amosov-dubinsky-kopchenova_1994.pdf p284."
   ]
  },
  {
   "cell_type": "code",
   "execution_count": 7,
   "metadata": {},
   "outputs": [],
   "source": [
    "#From Amosov\n",
    "A_e2 = np.array([[2,0],[0,4]])\n",
    "b_e2 = np.array([4,4]).reshape(-1, 1)\n",
    "x_e2 = np.array([1,1]).reshape(-1, 1)\n",
    "\n",
    "#%timeit cg(A_e2,b_e2)\n",
    "#print(cg(A_e2,b_e2)[0]) #correct answer\n",
    "#[2. 1.]"
   ]
  },
  {
   "cell_type": "markdown",
   "metadata": {},
   "source": [
    "My realization of the method. Reworked code Wiki article about Conjugate Gradient method https://en.wikipedia.org/wiki/Conjugate_gradient_method"
   ]
  },
  {
   "cell_type": "markdown",
   "metadata": {},
   "source": [
    "k - step\n",
    "r - residual of the k step\n",
    "p - conjugate vector\n"
   ]
  },
  {
   "cell_type": "code",
   "execution_count": 8,
   "metadata": {},
   "outputs": [],
   "source": [
    "#conjugate gradients method realisation\n",
    "def my_cg(A,b,x):\n",
    "    r = b - A @ x # the first residual\n",
    "    p = r # the first basis vectop p\n",
    "    rsold = r.T @ r\n",
    "    k = 0\n",
    "    while k < len(A)*10: # should converge in n steps (but it does not :( )\n",
    "        Ap = A @ p\n",
    "        alpha = rsold / (p.T @ Ap)\n",
    "        x = x + alpha * p\n",
    "        r = r - alpha * Ap\n",
    "        rsnew = r.T @ r\n",
    "        if norm(r) < 1e-10:\n",
    "            print(\"1e-10 Broken\")\n",
    "            break\n",
    "        p = r + (rsnew / rsold) * p\n",
    "        rsold = rsnew\n",
    "\n",
    "        k = k + 1\n",
    "    print(\"Counted in:\", k, \"steps\")\n",
    "    return x"
   ]
  },
  {
   "cell_type": "markdown",
   "metadata": {},
   "source": [
    "My realization of the method. Reworked code Wiki article about Conjugate Gradient method https://en.wikipedia.org/wiki/Conjugate_gradient_method.<br>\n",
    "Also used this: An Introduction to the Conjugate Gradient Method Without the Agonizing Pain http://www.cs.cmu.edu/~quake-papers/painless-conjugate-gradient.pdf p39 to learn about preconditioning."
   ]
  },
  {
   "cell_type": "code",
   "execution_count": 9,
   "metadata": {},
   "outputs": [],
   "source": [
    "#conjugate gradients method realisation with Jacobi preconditioner\n",
    "def my_cg_prec(A,b,x,M):\n",
    "    M_inv = np.linalg.inv(M)\n",
    "    r = b - A @ x\n",
    "    z = M_inv @ r\n",
    "    p = z\n",
    "    i = 0\n",
    "    while i < len(A)*10: # should converge in n steps (but it does not :( )\n",
    "        Ap = A @ p\n",
    "        alpha = (r.T @ z) / (p.T @ Ap)\n",
    "        x = x + alpha * p\n",
    "        ztr_old = z.T @ r\n",
    "        r = r - alpha * Ap\n",
    "        if norm(r) < 1e-10:\n",
    "            print(\"1e-10 Broken\")\n",
    "            break\n",
    "        z = M_inv @ r\n",
    "        betta = (z.T @ r)/(ztr_old)\n",
    "        p = z + betta * p\n",
    "\n",
    "        i = i+1\n",
    "    print(\"Counted in:\", i, \"steps\")\n",
    "    return x"
   ]
  },
  {
   "cell_type": "markdown",
   "metadata": {},
   "source": [
    "Testing my code on the known problems(from Wiki and Amosov)."
   ]
  },
  {
   "cell_type": "code",
   "execution_count": 10,
   "metadata": {},
   "outputs": [],
   "source": [
    "#my_cg(A_e1,b_e1,x_e1) #correct"
   ]
  },
  {
   "cell_type": "code",
   "execution_count": 11,
   "metadata": {},
   "outputs": [],
   "source": [
    "#my_cg(A_e2,b_e2,x_e2) #correct"
   ]
  },
  {
   "cell_type": "code",
   "execution_count": 12,
   "metadata": {},
   "outputs": [
    {
     "name": "stdout",
     "output_type": "stream",
     "text": [
      "1e-10 Broken\n",
      "Counted in: 35 steps\n",
      "1e-10 Broken\n",
      "Counted in: 33 steps\n",
      "**********NORMAL**********\n",
      "1 LOOP COMPLETED size = 100\n",
      "mean error = [2.8134203e-06]\n",
      "**********PRECONDITIONED**********\n",
      "1 LOOP COMPLETED size = 100\n",
      "mean error = [2.81342086e-06]\n",
      "\n",
      "1e-10 Broken\n",
      "Counted in: 64 steps\n",
      "1e-10 Broken\n",
      "Counted in: 61 steps\n",
      "**********NORMAL**********\n",
      "2 LOOP COMPLETED size = 200\n",
      "mean error = [7.37651602e-06]\n",
      "**********PRECONDITIONED**********\n",
      "2 LOOP COMPLETED size = 200\n",
      "mean error = [7.37651509e-06]\n",
      "\n",
      "1e-10 Broken\n",
      "Counted in: 101 steps\n",
      "1e-10 Broken\n",
      "Counted in: 94 steps\n",
      "**********NORMAL**********\n",
      "3 LOOP COMPLETED size = 300\n",
      "mean error = [1.10326547e-05]\n",
      "**********PRECONDITIONED**********\n",
      "3 LOOP COMPLETED size = 300\n",
      "mean error = [1.10326539e-05]\n",
      "\n",
      "1e-10 Broken\n",
      "Counted in: 157 steps\n",
      "1e-10 Broken\n",
      "Counted in: 142 steps\n",
      "**********NORMAL**********\n",
      "4 LOOP COMPLETED size = 400\n",
      "mean error = [1.0635308e-05]\n",
      "**********PRECONDITIONED**********\n",
      "4 LOOP COMPLETED size = 400\n",
      "mean error = [1.06353041e-05]\n",
      "\n",
      "1e-10 Broken\n",
      "Counted in: 206 steps\n",
      "1e-10 Broken\n",
      "Counted in: 177 steps\n",
      "**********NORMAL**********\n",
      "5 LOOP COMPLETED size = 500\n",
      "mean error = [2.86935522e-05]\n",
      "**********PRECONDITIONED**********\n",
      "5 LOOP COMPLETED size = 500\n",
      "mean error = [2.86935502e-05]\n",
      "\n",
      "1e-10 Broken\n",
      "Counted in: 279 steps\n",
      "1e-10 Broken\n",
      "Counted in: 237 steps\n",
      "**********NORMAL**********\n",
      "6 LOOP COMPLETED size = 600\n",
      "mean error = [3.17296767e-05]\n",
      "**********PRECONDITIONED**********\n",
      "6 LOOP COMPLETED size = 600\n",
      "mean error = [3.17296779e-05]\n",
      "\n",
      "1e-10 Broken\n",
      "Counted in: 375 steps\n",
      "1e-10 Broken\n",
      "Counted in: 306 steps\n",
      "**********NORMAL**********\n",
      "7 LOOP COMPLETED size = 700\n",
      "mean error = [3.8268308e-05]\n",
      "**********PRECONDITIONED**********\n",
      "7 LOOP COMPLETED size = 700\n",
      "mean error = [3.82683058e-05]\n",
      "\n",
      "1e-10 Broken\n",
      "Counted in: 442 steps\n",
      "1e-10 Broken\n",
      "Counted in: 359 steps\n",
      "**********NORMAL**********\n",
      "8 LOOP COMPLETED size = 800\n",
      "mean error = [3.61678364e-05]\n",
      "**********PRECONDITIONED**********\n",
      "8 LOOP COMPLETED size = 800\n",
      "mean error = [3.61678356e-05]\n",
      "\n",
      "1e-10 Broken\n",
      "Counted in: 503 steps\n",
      "1e-10 Broken\n",
      "Counted in: 411 steps\n",
      "**********NORMAL**********\n",
      "9 LOOP COMPLETED size = 900\n",
      "mean error = [4.45296137e-05]\n",
      "**********PRECONDITIONED**********\n",
      "9 LOOP COMPLETED size = 900\n",
      "mean error = [4.45296198e-05]\n",
      "\n",
      "1e-10 Broken\n",
      "Counted in: 709 steps\n",
      "1e-10 Broken\n",
      "Counted in: 546 steps\n",
      "**********NORMAL**********\n",
      "10 LOOP COMPLETED size = 1000\n",
      "mean error = [5.22395686e-05]\n",
      "**********PRECONDITIONED**********\n",
      "10 LOOP COMPLETED size = 1000\n",
      "mean error = [5.22395648e-05]\n",
      "\n",
      "1e-10 Broken\n",
      "Counted in: 905 steps\n",
      "1e-10 Broken\n",
      "Counted in: 694 steps\n",
      "**********NORMAL**********\n",
      "11 LOOP COMPLETED size = 1100\n",
      "mean error = [8.13513698e-05]\n",
      "**********PRECONDITIONED**********\n",
      "11 LOOP COMPLETED size = 1100\n",
      "mean error = [8.1351388e-05]\n",
      "\n",
      "1e-10 Broken\n",
      "Counted in: 1210 steps\n",
      "1e-10 Broken\n",
      "Counted in: 889 steps\n",
      "**********NORMAL**********\n",
      "12 LOOP COMPLETED size = 1200\n",
      "mean error = [8.45014517e-05]\n",
      "**********PRECONDITIONED**********\n",
      "12 LOOP COMPLETED size = 1200\n",
      "mean error = [8.450128e-05]\n",
      "\n",
      "1e-10 Broken\n",
      "Counted in: 1544 steps\n",
      "1e-10 Broken\n",
      "Counted in: 1127 steps\n",
      "**********NORMAL**********\n",
      "13 LOOP COMPLETED size = 1300\n",
      "mean error = [0.0001437]\n",
      "**********PRECONDITIONED**********\n",
      "13 LOOP COMPLETED size = 1300\n",
      "mean error = [0.0001437]\n",
      "\n",
      "1e-10 Broken\n",
      "Counted in: 1851 steps\n",
      "1e-10 Broken\n",
      "Counted in: 1357 steps\n",
      "**********NORMAL**********\n",
      "14 LOOP COMPLETED size = 1400\n",
      "mean error = [0.0001701]\n",
      "**********PRECONDITIONED**********\n",
      "14 LOOP COMPLETED size = 1400\n",
      "mean error = [0.0001701]\n",
      "\n",
      "1e-10 Broken\n",
      "Counted in: 2386 steps\n",
      "1e-10 Broken\n",
      "Counted in: 1706 steps\n",
      "**********NORMAL**********\n",
      "15 LOOP COMPLETED size = 1500\n",
      "mean error = [0.00022801]\n",
      "**********PRECONDITIONED**********\n",
      "15 LOOP COMPLETED size = 1500\n",
      "mean error = [0.00022811]\n",
      "\n",
      "1e-10 Broken\n",
      "Counted in: 3224 steps\n",
      "1e-10 Broken\n",
      "Counted in: 2252 steps\n",
      "**********NORMAL**********\n",
      "16 LOOP COMPLETED size = 1600\n",
      "mean error = [0.00027489]\n",
      "**********PRECONDITIONED**********\n",
      "16 LOOP COMPLETED size = 1600\n",
      "mean error = [0.00027487]\n",
      "\n",
      "1e-10 Broken\n",
      "Counted in: 3451 steps\n",
      "1e-10 Broken\n",
      "Counted in: 2943 steps\n",
      "**********NORMAL**********\n",
      "17 LOOP COMPLETED size = 1700\n",
      "mean error = [0.00027149]\n",
      "**********PRECONDITIONED**********\n",
      "17 LOOP COMPLETED size = 1700\n",
      "mean error = [0.00027218]\n",
      "\n",
      "1e-10 Broken\n",
      "Counted in: 4692 steps\n",
      "1e-10 Broken\n",
      "Counted in: 3258 steps\n",
      "**********NORMAL**********\n",
      "18 LOOP COMPLETED size = 1800\n",
      "mean error = [0.00035487]\n",
      "**********PRECONDITIONED**********\n",
      "18 LOOP COMPLETED size = 1800\n",
      "mean error = [0.00035581]\n",
      "\n",
      "1e-10 Broken\n",
      "Counted in: 6208 steps\n",
      "1e-10 Broken\n",
      "Counted in: 4319 steps\n",
      "**********NORMAL**********\n",
      "19 LOOP COMPLETED size = 1900\n",
      "mean error = [0.00051525]\n",
      "**********PRECONDITIONED**********\n",
      "19 LOOP COMPLETED size = 1900\n",
      "mean error = [0.00152907]\n",
      "\n",
      "1e-10 Broken\n",
      "Counted in: 7645 steps\n",
      "1e-10 Broken\n",
      "Counted in: 5200 steps\n",
      "**********NORMAL**********\n",
      "20 LOOP COMPLETED size = 2000\n",
      "mean error = [0.00074879]\n",
      "**********PRECONDITIONED**********\n",
      "20 LOOP COMPLETED size = 2000\n",
      "mean error = [0.00325894]\n",
      "\n",
      "1e-10 Broken\n",
      "Counted in: 9528 steps\n",
      "1e-10 Broken\n",
      "Counted in: 6538 steps\n",
      "**********NORMAL**********\n",
      "21 LOOP COMPLETED size = 2100\n",
      "mean error = [0.01396835]\n",
      "**********PRECONDITIONED**********\n",
      "21 LOOP COMPLETED size = 2100\n",
      "mean error = [0.04499398]\n",
      "\n",
      "1e-10 Broken\n",
      "Counted in: 11440 steps\n",
      "1e-10 Broken\n",
      "Counted in: 7478 steps\n",
      "**********NORMAL**********\n",
      "22 LOOP COMPLETED size = 2200\n",
      "mean error = [0.00937217]\n",
      "**********PRECONDITIONED**********\n",
      "22 LOOP COMPLETED size = 2200\n",
      "mean error = [0.22849979]\n",
      "\n",
      "1e-10 Broken\n",
      "Counted in: 14626 steps\n",
      "1e-10 Broken\n",
      "Counted in: 9656 steps\n",
      "**********NORMAL**********\n",
      "23 LOOP COMPLETED size = 2300\n",
      "mean error = [0.08038733]\n",
      "**********PRECONDITIONED**********\n",
      "23 LOOP COMPLETED size = 2300\n",
      "mean error = [1.04281559]\n",
      "\n",
      "1e-10 Broken\n",
      "Counted in: 16873 steps\n",
      "1e-10 Broken\n",
      "Counted in: 10803 steps\n",
      "**********NORMAL**********\n",
      "24 LOOP COMPLETED size = 2400\n",
      "mean error = [1.52057264]\n",
      "**********PRECONDITIONED**********\n",
      "24 LOOP COMPLETED size = 2400\n",
      "mean error = [2.97912052]\n",
      "\n"
     ]
    }
   ],
   "source": [
    "count = 25\n",
    "y = np.zeros(count-1)\n",
    "z = np.zeros(count-1)\n",
    "\n",
    "i = 1\n",
    "while i < count:\n",
    "    size = 100*i\n",
    "    A = gen_matrix(size)\n",
    "#    check_matrix(A)\n",
    "    x,b = gen_xb(size)\n",
    "    M = gen_precond(A, size)\n",
    "#    check_matrix(M)\n",
    "    CG = cg(A,b,x)[0]\n",
    "    My = my_cg(A,b,x)\n",
    "    My_p = my_cg_prec(A,b,x,M)\n",
    "    \n",
    "    print('**********NORMAL**********')\n",
    "    #normal\n",
    "    j = 0\n",
    "    summa = 0\n",
    "    while j < size:\n",
    "        #print(CG[j]-My[j])\n",
    "        summa += abs(CG[j]-My[j])\n",
    "        j = j + 1\n",
    "    print(i,\"LOOP COMPLETED size =\",size)\n",
    "    mer = summa/size\n",
    "    y[i-1] = mer\n",
    "    print('mean error =', mer)\n",
    "    \n",
    "    print('**********PRECONDITIONED**********')\n",
    "    #preconditioned\n",
    "    j = 0\n",
    "    summa = 0\n",
    "    while j < size:\n",
    "        #print(CG[j]-My_p[j])\n",
    "        summa += abs(CG[j]-My_p[j])\n",
    "        j = j + 1\n",
    "    print(i,\"LOOP COMPLETED size =\",size)\n",
    "    mer = summa/size\n",
    "    z[i-1] = mer\n",
    "    print('mean error =', mer)\n",
    "    \n",
    "#    M_inv @ A is better conditioned than A\n",
    "#    print('A condition number =', np.linalg.cond(A))\n",
    "#    M_inv = np.linalg.inv(M)\n",
    "#    print('M_inv @ A condition number =', np.linalg.cond(M_inv @ A))\n",
    "\n",
    "    print()\n",
    "    i = i + 1\n",
    "\n",
    "    "
   ]
  },
  {
   "cell_type": "markdown",
   "metadata": {},
   "source": [
    "Lets plot mean error for each loop:"
   ]
  },
  {
   "cell_type": "code",
   "execution_count": 13,
   "metadata": {},
   "outputs": [
    {
     "data": {
      "image/png": "[encoded data removed]",
      "text/plain": [
       "<Figure size 432x288 with 1 Axes>"
      ]
     },
     "metadata": {
      "needs_background": "light"
     },
     "output_type": "display_data"
    }
   ],
   "source": [
    "#for normal\n",
    "plt.xlim([0, 2500])\n",
    "plt.ylim([1e-7, 1e+7])\n",
    "\n",
    "x_axis = np.arange(1,i)*100\n",
    " \n",
    "# Plot\n",
    "plt.scatter(x_axis, y)\n",
    "plt.xlabel('A dimension')\n",
    "plt.ylabel('mean error')\n",
    "plt.yscale('log')\n",
    "plt.show()"
   ]
  },
  {
   "cell_type": "code",
   "execution_count": 14,
   "metadata": {},
   "outputs": [
    {
     "data": {
      "image/png": "[encoded data removed]",
      "text/plain": [
       "<Figure size 432x288 with 1 Axes>"
      ]
     },
     "metadata": {
      "needs_background": "light"
     },
     "output_type": "display_data"
    }
   ],
   "source": [
    "#for preconditioned\n",
    "plt.xlim([0, 2500])\n",
    "plt.ylim([1e-7, 1e+7])\n",
    "\n",
    "x_axis = np.arange(1,i)*100\n",
    " \n",
    "# Plot\n",
    "plt.scatter(x_axis, z)\n",
    "plt.xlabel('A dimension')\n",
    "plt.ylabel('mean error')\n",
    "plt.yscale('log')\n",
    "plt.show()"
   ]
  },
  {
   "cell_type": "markdown",
   "metadata": {},
   "source": [
    "If we have unlimited steps preconditioned algorith is cheaper, but gives worse answer\n",
    "With steps limited to n the preconditioned algorithm is cheaper and more precise"
   ]
  },
  {
   "cell_type": "markdown",
   "metadata": {},
   "source": [
    "Literature:\n",
    "1. Амосов А.А., Дубинский Ю.А., Копченова Н.В. Вычислительные методы для инженеров. http://pnu.edu.ru/media/filer_public/2013/04/10/6-1_amosov-dubinsky-kopchenova_1994.pdf p284.\n",
    "2. Wiki article about Conjugate Gradient method \n",
    "https://en.wikipedia.org/wiki/Conjugate_gradient_method\n",
    "3. Preconditioning: An Introduction to the Conjugate Gradient Method Without the Agonizing Pain http://www.cs.cmu.edu/~quake-papers/painless-conjugate-gradient.pdf p39\n",
    "3. How to randomly generate sparse matrices in Python: https://docs.scipy.org/doc/scipy/reference/sparse.html <br>Or BETTER: https://stackoverflow.com/questions/26895011/python-how-to-use-python-to-generate-a-random-sparse-symmetric-matrix <br> Or even BETTER (used in current version): https://scikit-learn.org/stable/modules/generated/sklearn.datasets.make_sparse_spd_matrix.html\n",
    "\n",
    "Honorable mentions: \n",
    "1. The Concept of Conjugate Gradient Descent in Python. http://ikuz.eu/2015/04/15/the-concept-of-conjugate-gradient-descent-in-python/\n",
    "2. Iterative methods lab. Jacobi preconditioned conjugate gradients method. https://www.kth.se/social/files/5885d039f2765429974418ce/Lab1.pdf\n"
   ]
  }
 ],
 "metadata": {
  "kernelspec": {
   "display_name": "Python 3",
   "language": "python",
   "name": "python3"
  },
  "language_info": {
   "codemirror_mode": {
    "name": "ipython",
    "version": 3
   },
   "file_extension": ".py",
   "mimetype": "text/x-python",
   "name": "python",
   "nbconvert_exporter": "python",
   "pygments_lexer": "ipython3",
   "version": "3.6.7"
  }
 },
 "nbformat": 4,
 "nbformat_minor": 2
}
